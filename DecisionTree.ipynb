{
 "cells": [
  {
   "cell_type": "code",
   "execution_count": null,
   "source": [
    "import numpy as np # linear algebra\r\n",
    "import pandas as pd # data processing, CSV file I/O (e.g. pd.read_csv)\r\n",
    "import matplotlib.pyplot as plt # data visualization\r\n",
    "import seaborn as sns # statistical data visualization"
   ],
   "outputs": [],
   "metadata": {}
  },
  {
   "cell_type": "code",
   "execution_count": null,
   "source": [
    "df = pd.read_csv(\"car.data\", header=None)\r\n",
    "col_names = ['buying', 'maint', 'doors', 'persons', 'lug_boot', 'safety', 'class']\r\n",
    "df.columns = col_names"
   ],
   "outputs": [],
   "metadata": {}
  },
  {
   "cell_type": "code",
   "execution_count": null,
   "source": [
    "X = df.drop(['class'], axis=1)\r\n",
    "y = df['class']"
   ],
   "outputs": [],
   "metadata": {}
  },
  {
   "cell_type": "code",
   "execution_count": null,
   "source": [
    "from sklearn.model_selection import train_test_split\r\n",
    "\r\n",
    "X_train, X_test, y_train, y_test = train_test_split(X, y, test_size = 0.33, random_state=42)\r\n",
    "X_train.head()"
   ],
   "outputs": [],
   "metadata": {}
  },
  {
   "cell_type": "code",
   "execution_count": null,
   "source": [
    "# Fazer a troca dos valores nominais para valores numéricos\r\n",
    "# Neste caso antes tinhamos objects e agora temos dtypes\r\n",
    "\r\n",
    "import category_encoders as ce\r\n",
    "\r\n",
    "encoder = ce.OrdinalEncoder(cols=['buying', 'maint', 'doors', 'persons', 'lug_boot', 'safety'])\r\n",
    "\r\n",
    "X_train = encoder.fit_transform(X_train)\r\n",
    "X_test = encoder.transform(X_test)\r\n",
    "X_train.head()\r\n",
    "X_train.dtypes"
   ],
   "outputs": [],
   "metadata": {}
  },
  {
   "cell_type": "code",
   "execution_count": null,
   "source": [
    "from sklearn.tree import DecisionTreeClassifier\r\n",
    "\r\n",
    "clf_gini = DecisionTreeClassifier(criterion='gini', max_depth=3, random_state=0)\r\n",
    "clf_gini.fit(X_train, y_train)"
   ],
   "outputs": [],
   "metadata": {}
  },
  {
   "cell_type": "code",
   "execution_count": null,
   "source": [
    "y_pred_gini = clf_gini.predict(X_test)"
   ],
   "outputs": [],
   "metadata": {}
  },
  {
   "cell_type": "code",
   "execution_count": null,
   "source": [
    "from sklearn.metrics import accuracy_score\r\n",
    "\r\n",
    "print(f'Score de precisão do set de TESTE utilizando Índice de Gini: {accuracy_score(y_test, y_pred_gini)}')"
   ],
   "outputs": [],
   "metadata": {}
  },
  {
   "cell_type": "code",
   "execution_count": null,
   "source": [
    "y_pred_train_gini = clf_gini.predict(X_train)\r\n",
    "\r\n",
    "y_pred_train_gini"
   ],
   "outputs": [],
   "metadata": {}
  },
  {
   "cell_type": "code",
   "execution_count": null,
   "source": [
    "print(f'Score de precisão do set de TREINO utilizando Índice de Gini: {accuracy_score(y_train, y_pred_train_gini)}')\r\n"
   ],
   "outputs": [],
   "metadata": {}
  },
  {
   "cell_type": "code",
   "execution_count": null,
   "source": [
    "print(f'Score do conjunto de TREINO utilizando Índice de Gini: {clf_gini.score(X_train, y_train)}')\r\n",
    "\r\n",
    "print(f'Score do conjunto de TESTE utilizando Índice de Gini: {clf_gini.score(X_test, y_test)}')\r\n",
    "\r\n"
   ],
   "outputs": [],
   "metadata": {}
  },
  {
   "cell_type": "code",
   "execution_count": null,
   "source": [
    "plt.figure(figsize=(12,8))\r\n",
    "\r\n",
    "from sklearn import tree\r\n",
    "\r\n",
    "# tree.plot_tree(clf_gini.fit(X_train, y_train)) \r\n",
    "\r\n",
    "import graphviz \r\n",
    "dot_data = tree.export_graphviz(clf_gini, out_file=None, \r\n",
    "                              feature_names=X_train.columns,  \r\n",
    "                              class_names=y_train,  \r\n",
    "                              filled=True, rounded=True,  \r\n",
    "                              special_characters=True)\r\n",
    "\r\n",
    "graph = graphviz.Source(dot_data) \r\n",
    "\r\n",
    "graph "
   ],
   "outputs": [],
   "metadata": {}
  },
  {
   "cell_type": "code",
   "execution_count": null,
   "source": [
    "import graphviz\r\n",
    "\r\n",
    "g = graphviz.Digraph('G', filename='hello.gv')\r\n",
    "\r\n",
    "g.edge('Hello', 'World')\r\n",
    "\r\n",
    "g.view()"
   ],
   "outputs": [],
   "metadata": {}
  },
  {
   "cell_type": "code",
   "execution_count": 18,
   "source": [
    "from tkinter import *\r\n",
    "\r\n",
    "window = Tk()\r\n",
    "\r\n",
    "window.title(\"Welcome to LikeGeeks app\")\r\n",
    "\r\n",
    "window.mainloop()"
   ],
   "outputs": [],
   "metadata": {}
  }
 ],
 "metadata": {
  "orig_nbformat": 4,
  "language_info": {
   "name": "python",
   "version": "3.9.5",
   "mimetype": "text/x-python",
   "codemirror_mode": {
    "name": "ipython",
    "version": 3
   },
   "pygments_lexer": "ipython3",
   "nbconvert_exporter": "python",
   "file_extension": ".py"
  },
  "kernelspec": {
   "name": "python3",
   "display_name": "Python 3.9.5 64-bit"
  },
  "interpreter": {
   "hash": "63fd5069d213b44bf678585dea6b12cceca9941eaf7f819626cde1f2670de90d"
  }
 },
 "nbformat": 4,
 "nbformat_minor": 2
}